{
 "cells": [
  {
   "cell_type": "markdown",
   "metadata": {},
   "source": [
    "# Mobile Plan Classification Project"
   ]
  },
  {
   "cell_type": "markdown",
   "metadata": {},
   "source": [
    "This project aims to build a machine learning model for Megaline, a mobile carrier, to recommend the best plan for its users. Many subscribers still use old plans, and the company wants to encourage them to switch to a newer option: Smart or Ultra. Using data on user behavior—such as calls, messages, and internet usage—we will train a model to predict the most suitable plan. The goal is to achieve at least 75% accuracy, ensuring reliable recommendations that help improve customer experience.\n",
    "\n",
    "Heather Marie Culligan \n",
    "\n",
    "Feb 2025"
   ]
  },
  {
   "cell_type": "code",
   "execution_count": 12,
   "metadata": {},
   "outputs": [],
   "source": [
    "import pandas as pd\n",
    "from sklearn.model_selection import train_test_split\n",
    "from sklearn.linear_model import LogisticRegression\n",
    "from sklearn.tree import DecisionTreeClassifier\n",
    "from sklearn.ensemble import RandomForestClassifier\n",
    "from sklearn.metrics import accuracy_score\n",
    "from sklearn.metrics import confusion_matrix, classification_report\n",
    "from sklearn.model_selection import GridSearchCV\n",
    "import matplotlib.pyplot as plt\n",
    "import seaborn as sns"
   ]
  },
  {
   "cell_type": "markdown",
   "metadata": {},
   "source": [
    "Then import the dataset and take a quick overall look into the data. "
   ]
  },
  {
   "cell_type": "code",
   "execution_count": 13,
   "metadata": {},
   "outputs": [],
   "source": [
    "df= pd.read_csv('/datasets/users_behavior.csv')"
   ]
  },
  {
   "cell_type": "code",
   "execution_count": 14,
   "metadata": {},
   "outputs": [
    {
     "name": "stdout",
     "output_type": "stream",
     "text": [
      "<class 'pandas.core.frame.DataFrame'>\n",
      "RangeIndex: 3214 entries, 0 to 3213\n",
      "Data columns (total 5 columns):\n",
      " #   Column    Non-Null Count  Dtype  \n",
      "---  ------    --------------  -----  \n",
      " 0   calls     3214 non-null   float64\n",
      " 1   minutes   3214 non-null   float64\n",
      " 2   messages  3214 non-null   float64\n",
      " 3   mb_used   3214 non-null   float64\n",
      " 4   is_ultra  3214 non-null   int64  \n",
      "dtypes: float64(4), int64(1)\n",
      "memory usage: 125.7 KB\n"
     ]
    },
    {
     "data": {
      "text/plain": [
       "(None,\n",
       "    calls  minutes  messages   mb_used  is_ultra\n",
       " 0   40.0   311.90      83.0  19915.42         0\n",
       " 1   85.0   516.75      56.0  22696.96         0\n",
       " 2   77.0   467.66      86.0  21060.45         0\n",
       " 3  106.0   745.53      81.0   8437.39         1\n",
       " 4   66.0   418.74       1.0  14502.75         0)"
      ]
     },
     "execution_count": 14,
     "metadata": {},
     "output_type": "execute_result"
    }
   ],
   "source": [
    "df.info(), df.head()"
   ]
  },
  {
   "cell_type": "code",
   "execution_count": 15,
   "metadata": {},
   "outputs": [
    {
     "data": {
      "text/plain": [
       "calls       0\n",
       "minutes     0\n",
       "messages    0\n",
       "mb_used     0\n",
       "is_ultra    0\n",
       "dtype: int64"
      ]
     },
     "execution_count": 15,
     "metadata": {},
     "output_type": "execute_result"
    }
   ],
   "source": [
    "df.isnull().sum()"
   ]
  },
  {
   "cell_type": "code",
   "execution_count": 16,
   "metadata": {},
   "outputs": [
    {
     "data": {
      "text/html": [
       "<div>\n",
       "<style scoped>\n",
       "    .dataframe tbody tr th:only-of-type {\n",
       "        vertical-align: middle;\n",
       "    }\n",
       "\n",
       "    .dataframe tbody tr th {\n",
       "        vertical-align: top;\n",
       "    }\n",
       "\n",
       "    .dataframe thead th {\n",
       "        text-align: right;\n",
       "    }\n",
       "</style>\n",
       "<table border=\"1\" class=\"dataframe\">\n",
       "  <thead>\n",
       "    <tr style=\"text-align: right;\">\n",
       "      <th></th>\n",
       "      <th>calls</th>\n",
       "      <th>minutes</th>\n",
       "      <th>messages</th>\n",
       "      <th>mb_used</th>\n",
       "      <th>is_ultra</th>\n",
       "    </tr>\n",
       "  </thead>\n",
       "  <tbody>\n",
       "    <tr>\n",
       "      <th>count</th>\n",
       "      <td>3214.000000</td>\n",
       "      <td>3214.000000</td>\n",
       "      <td>3214.000000</td>\n",
       "      <td>3214.000000</td>\n",
       "      <td>3214.000000</td>\n",
       "    </tr>\n",
       "    <tr>\n",
       "      <th>mean</th>\n",
       "      <td>63.038892</td>\n",
       "      <td>438.208787</td>\n",
       "      <td>38.281269</td>\n",
       "      <td>17207.673836</td>\n",
       "      <td>0.306472</td>\n",
       "    </tr>\n",
       "    <tr>\n",
       "      <th>std</th>\n",
       "      <td>33.236368</td>\n",
       "      <td>234.569872</td>\n",
       "      <td>36.148326</td>\n",
       "      <td>7570.968246</td>\n",
       "      <td>0.461100</td>\n",
       "    </tr>\n",
       "    <tr>\n",
       "      <th>min</th>\n",
       "      <td>0.000000</td>\n",
       "      <td>0.000000</td>\n",
       "      <td>0.000000</td>\n",
       "      <td>0.000000</td>\n",
       "      <td>0.000000</td>\n",
       "    </tr>\n",
       "    <tr>\n",
       "      <th>25%</th>\n",
       "      <td>40.000000</td>\n",
       "      <td>274.575000</td>\n",
       "      <td>9.000000</td>\n",
       "      <td>12491.902500</td>\n",
       "      <td>0.000000</td>\n",
       "    </tr>\n",
       "    <tr>\n",
       "      <th>50%</th>\n",
       "      <td>62.000000</td>\n",
       "      <td>430.600000</td>\n",
       "      <td>30.000000</td>\n",
       "      <td>16943.235000</td>\n",
       "      <td>0.000000</td>\n",
       "    </tr>\n",
       "    <tr>\n",
       "      <th>75%</th>\n",
       "      <td>82.000000</td>\n",
       "      <td>571.927500</td>\n",
       "      <td>57.000000</td>\n",
       "      <td>21424.700000</td>\n",
       "      <td>1.000000</td>\n",
       "    </tr>\n",
       "    <tr>\n",
       "      <th>max</th>\n",
       "      <td>244.000000</td>\n",
       "      <td>1632.060000</td>\n",
       "      <td>224.000000</td>\n",
       "      <td>49745.730000</td>\n",
       "      <td>1.000000</td>\n",
       "    </tr>\n",
       "  </tbody>\n",
       "</table>\n",
       "</div>"
      ],
      "text/plain": [
       "             calls      minutes     messages       mb_used     is_ultra\n",
       "count  3214.000000  3214.000000  3214.000000   3214.000000  3214.000000\n",
       "mean     63.038892   438.208787    38.281269  17207.673836     0.306472\n",
       "std      33.236368   234.569872    36.148326   7570.968246     0.461100\n",
       "min       0.000000     0.000000     0.000000      0.000000     0.000000\n",
       "25%      40.000000   274.575000     9.000000  12491.902500     0.000000\n",
       "50%      62.000000   430.600000    30.000000  16943.235000     0.000000\n",
       "75%      82.000000   571.927500    57.000000  21424.700000     1.000000\n",
       "max     244.000000  1632.060000   224.000000  49745.730000     1.000000"
      ]
     },
     "execution_count": 16,
     "metadata": {},
     "output_type": "execute_result"
    }
   ],
   "source": [
    "df.describe()"
   ]
  },
  {
   "cell_type": "markdown",
   "metadata": {},
   "source": [
    "The data has no missing data. I'll visualize some of this data using some graphs. Starting the visualization with each numerical column as it's own chart first, followed by a simple bar graph."
   ]
  },
  {
   "cell_type": "code",
   "execution_count": 17,
   "metadata": {},
   "outputs": [
    {
     "data": {
      "image/png": "[encoded data removed]",
      "text/plain": [
       "<Figure size 1000x800 with 6 Axes>"
      ]
     },
     "metadata": {},
     "output_type": "display_data"
    },
    {
     "data": {
      "image/png": "[encoded data removed]",
      "text/plain": [
       "<Figure size 600x400 with 1 Axes>"
      ]
     },
     "metadata": {},
     "output_type": "display_data"
    }
   ],
   "source": [
    "df.hist(figsize=(10, 8), bins=30, edgecolor='black')\n",
    "plt.suptitle(\"Feature Distributions\", fontsize=16)\n",
    "plt.show()\n",
    "\n",
    "class_counts = df['is_ultra'].value_counts()\n",
    "\n",
    "plt.figure(figsize=(6, 4))\n",
    "plt.bar(class_counts.index, class_counts.values, tick_label=['Smart (0)', 'Ultra (1)'])\n",
    "plt.xlabel(\"Plan Type\")\n",
    "plt.ylabel(\"Count\")\n",
    "plt.title(\"Distribution of Target Variable (is_ultra)\")\n",
    "plt.show()\n"
   ]
  },
  {
   "cell_type": "code",
   "execution_count": 18,
   "metadata": {},
   "outputs": [
    {
     "data": {
      "text/plain": [
       "{'Training Set': 2249, 'Validation Set': 482, 'Test Set': 483}"
      ]
     },
     "execution_count": 18,
     "metadata": {},
     "output_type": "execute_result"
    }
   ],
   "source": [
    "X=df.drop(columns=['is_ultra'])\n",
    "y=df['is_ultra']\n",
    "\n",
    "X_train, X_temp, y_train, y_temp= train_test_split(X,  y, test_size=0.3, random_state=42, stratify=y)\n",
    "X_valid, X_test, y_valid, y_test= train_test_split(X_temp, y_temp, test_size=0.5, random_state=42, stratify=y_temp)\n",
    "split_sizes={\n",
    "    \"Training Set\": X_train.shape[0],\n",
    "    \"Validation Set\": X_valid.shape[0],\n",
    "    \"Test Set\": X_test.shape[0]\n",
    "}\n",
    "split_sizes"
   ]
  },
  {
   "cell_type": "markdown",
   "metadata": {},
   "source": [
    "The dataset was split into three parts to ensure effective model training and evaluation. 70% (2,249 samples) were used for training, allowing the model to learn patterns from user behavior. 15% (482 samples) were set aside for validation, helping to fine-tune hyperparameters and select the best-performing model. Finally, 15% (483 samples) were reserved for testing, ensuring an unbiased evaluation of the model's accuracy and generalization to new data. This balanced split helps prevent overfitting while maximizing the model’s predictive performance."
   ]
  },
  {
   "cell_type": "code",
   "execution_count": 19,
   "metadata": {
    "scrolled": true
   },
   "outputs": [
    {
     "data": {
      "text/plain": [
       "{'Decision Tree': 0.7261410788381742,\n",
       " 'Random Forest': 0.7987551867219918,\n",
       " 'Logistic Regression': 0.7344398340248963}"
      ]
     },
     "execution_count": 19,
     "metadata": {},
     "output_type": "execute_result"
    }
   ],
   "source": [
    "models = {\n",
    "    \"Decision Tree\": DecisionTreeClassifier(random_state=42),\n",
    "    \"Random Forest\": RandomForestClassifier(random_state=42),\n",
    "    \"Logistic Regression\": LogisticRegression(random_state=42, max_iter=1000)\n",
    "}\n",
    "\n",
    "accuracy_scores = {}\n",
    "\n",
    "for name, model in models.items():\n",
    "    model.fit(X_train, y_train)\n",
    "    y_pred = model.predict(X_valid)\n",
    "    accuracy_scores[name] = accuracy_score(y_valid, y_pred)\n",
    "\n",
    "accuracy_scores"
   ]
  },
  {
   "cell_type": "markdown",
   "metadata": {},
   "source": [
    "The model comparison showed that Random Forest performed best, achieving 79.9% accuracy, surpassing the required 75% threshold. In contrast, Decision Tree (72.6%) and Logistic Regression (73.4%) performed similarly but fell short. The superior performance of Random Forest is likely due to ensemble learning, which reduces overfitting and improves generalization compared to a single Decision Tree."
   ]
  },
  {
   "cell_type": "code",
   "execution_count": 20,
   "metadata": {},
   "outputs": [
    {
     "data": {
      "text/plain": [
       "({'max_depth': 10,\n",
       "  'min_samples_leaf': 2,\n",
       "  'min_samples_split': 5,\n",
       "  'n_estimators': 50},\n",
       " 0.7994665479899125)"
      ]
     },
     "execution_count": 20,
     "metadata": {},
     "output_type": "execute_result"
    }
   ],
   "source": [
    "param_grid = {\n",
    "    'n_estimators': [50, 100, 200],\n",
    "    'max_depth': [10, 20, None],\n",
    "    'min_samples_split': [2, 5, 10],\n",
    "    'min_samples_leaf': [1, 2, 4]\n",
    "}\n",
    "\n",
    "grid_search = GridSearchCV(RandomForestClassifier(random_state=42), param_grid, cv=3, scoring='accuracy', n_jobs=-1)\n",
    "\n",
    "grid_search.fit(X_train, y_train)\n",
    "\n",
    "best_params = grid_search.best_params_\n",
    "best_score = grid_search.best_score_\n",
    "\n",
    "best_params, best_score"
   ]
  },
  {
   "cell_type": "code",
   "execution_count": 21,
   "metadata": {},
   "outputs": [
    {
     "data": {
      "text/plain": [
       "(0.7966804979253111, 0.8260869565217391)"
      ]
     },
     "execution_count": 21,
     "metadata": {},
     "output_type": "execute_result"
    }
   ],
   "source": [
    "optimized_rf_model = RandomForestClassifier(\n",
    "    n_estimators=200,  \n",
    "    max_depth=20,     \n",
    "    min_samples_split=5,\n",
    "    min_samples_leaf=2, \n",
    "    random_state=42\n",
    ")\n",
    "\n",
    "optimized_rf_model.fit(X_train, y_train)\n",
    "\n",
    "y_valid_pred = optimized_rf_model.predict(X_valid)\n",
    "valid_accuracy = accuracy_score(y_valid, y_valid_pred)\n",
    "\n",
    "y_test_pred = optimized_rf_model.predict(X_test)\n",
    "test_accuracy = accuracy_score(y_test, y_test_pred)\n",
    "\n",
    "valid_accuracy, test_accuracy"
   ]
  },
  {
   "cell_type": "markdown",
   "metadata": {},
   "source": [
    "The optimized Random Forest model demonstrated strong performance, achieving 79.7% accuracy on the validation set and 82.6% on the test set. This exceeds the required 75% accuracy threshold, indicating that the model generalizes well and can effectively classify users into the appropriate mobile plan."
   ]
  },
  {
   "cell_type": "code",
   "execution_count": 22,
   "metadata": {},
   "outputs": [
    {
     "data": {
      "image/png": "[encoded data removed]",
      "text/plain": [
       "<Figure size 600x400 with 2 Axes>"
      ]
     },
     "metadata": {},
     "output_type": "display_data"
    },
    {
     "name": "stdout",
     "output_type": "stream",
     "text": [
      "Classification Report:\n",
      "               precision    recall  f1-score   support\n",
      "\n",
      "   Smart (0)       0.83      0.94      0.88       335\n",
      "   Ultra (1)       0.80      0.57      0.67       148\n",
      "\n",
      "    accuracy                           0.83       483\n",
      "   macro avg       0.82      0.76      0.78       483\n",
      "weighted avg       0.82      0.83      0.82       483\n",
      "\n"
     ]
    }
   ],
   "source": [
    "conf_matrix = confusion_matrix(y_test, y_test_pred)\n",
    "\n",
    "plt.figure(figsize=(6, 4))\n",
    "sns.heatmap(conf_matrix, annot=True, fmt=\"d\", cmap=\"Blues\", xticklabels=[\"Smart (0)\", \"Ultra (1)\"], yticklabels=[\"Smart (0)\", \"Ultra (1)\"])\n",
    "plt.xlabel(\"Predicted Label\")\n",
    "plt.ylabel(\"True Label\")\n",
    "plt.title(\"Confusion Matrix\")\n",
    "plt.show()\n",
    "\n",
    "class_report = classification_report(y_test, y_test_pred, target_names=[\"Smart (0)\", \"Ultra (1)\"])\n",
    "print(\"Classification Report:\\n\", class_report)"
   ]
  },
  {
   "cell_type": "markdown",
   "metadata": {},
   "source": [
    "The model achieved 82.6% accuracy but struggles to correctly identify Ultra (1) users. It predicts Ultra with 80% precision, but only 57% recall, meaning some Ultra users are misclassified as Smart. In contrast, it performs well for Smart (0) users, with an 88% F1-score, likely due to class imbalance."
   ]
  },
  {
   "cell_type": "markdown",
   "metadata": {},
   "source": [
    "In this project, we developed a machine learning model to recommend the best mobile plan for Megaline users based on their behavior. After testing multiple models, Random Forest performed best, achieving 82.6% accuracy, exceeding the required 75% threshold. However, the model struggled to correctly classify Ultra (1) users, likely due to class imbalance, favoring Smart (0) users instead. To improve this, we could balance the dataset, or adjust the decision threshold. Despite this challenge, the model provides a strong foundation for making data-driven plan recommendations, helping Megaline enhance customer experience and optimize their marketing strategies."
   ]
  }
 ],
 "metadata": {
  "ExecuteTimeLog": [
   {
    "duration": 359,
    "start_time": "2025-02-12T22:07:36.473Z"
   },
   {
    "duration": 230,
    "start_time": "2025-02-12T22:09:30.787Z"
   },
   {
    "duration": 15,
    "start_time": "2025-02-12T22:09:35.375Z"
   },
   {
    "duration": 18,
    "start_time": "2025-02-12T22:10:50.165Z"
   },
   {
    "duration": 15,
    "start_time": "2025-02-12T22:11:39.297Z"
   },
   {
    "duration": 755,
    "start_time": "2025-02-13T18:24:27.524Z"
   },
   {
    "duration": 2,
    "start_time": "2025-02-13T18:26:15.068Z"
   },
   {
    "duration": 217,
    "start_time": "2025-02-13T18:31:47.968Z"
   },
   {
    "duration": 755,
    "start_time": "2025-02-13T18:31:56.367Z"
   },
   {
    "duration": 14,
    "start_time": "2025-02-13T18:31:57.124Z"
   },
   {
    "duration": 14,
    "start_time": "2025-02-13T18:31:57.140Z"
   },
   {
    "duration": 231,
    "start_time": "2025-02-13T18:31:57.155Z"
   },
   {
    "duration": 7,
    "start_time": "2025-02-13T18:32:15.949Z"
   },
   {
    "duration": 32,
    "start_time": "2025-02-13T18:32:49.052Z"
   },
   {
    "duration": 808,
    "start_time": "2025-02-13T18:32:54.784Z"
   },
   {
    "duration": 8,
    "start_time": "2025-02-13T18:32:55.594Z"
   },
   {
    "duration": 15,
    "start_time": "2025-02-13T18:32:55.603Z"
   },
   {
    "duration": 7,
    "start_time": "2025-02-13T18:32:55.620Z"
   },
   {
    "duration": 235,
    "start_time": "2025-02-13T18:34:13.409Z"
   },
   {
    "duration": 19,
    "start_time": "2025-02-13T18:36:13.519Z"
   },
   {
    "duration": 486,
    "start_time": "2025-02-13T18:40:55.990Z"
   },
   {
    "duration": 944,
    "start_time": "2025-02-13T18:41:04.853Z"
   },
   {
    "duration": 0,
    "start_time": "2025-02-13T18:41:05.800Z"
   },
   {
    "duration": 0,
    "start_time": "2025-02-13T18:41:05.801Z"
   },
   {
    "duration": 0,
    "start_time": "2025-02-13T18:41:05.802Z"
   },
   {
    "duration": 0,
    "start_time": "2025-02-13T18:41:05.804Z"
   },
   {
    "duration": 4,
    "start_time": "2025-02-13T18:41:11.186Z"
   },
   {
    "duration": 8,
    "start_time": "2025-02-13T18:41:11.870Z"
   },
   {
    "duration": 16,
    "start_time": "2025-02-13T18:41:12.203Z"
   },
   {
    "duration": 8,
    "start_time": "2025-02-13T18:41:12.437Z"
   },
   {
    "duration": 434,
    "start_time": "2025-02-13T18:41:12.652Z"
   },
   {
    "duration": 3,
    "start_time": "2025-02-13T18:41:59.525Z"
   },
   {
    "duration": 782,
    "start_time": "2025-02-13T18:42:31.511Z"
   },
   {
    "duration": 7,
    "start_time": "2025-02-13T18:42:32.295Z"
   },
   {
    "duration": 15,
    "start_time": "2025-02-13T18:42:32.304Z"
   },
   {
    "duration": 7,
    "start_time": "2025-02-13T18:42:32.320Z"
   },
   {
    "duration": 457,
    "start_time": "2025-02-13T18:42:32.329Z"
   },
   {
    "duration": 138921,
    "start_time": "2025-02-13T18:42:32.788Z"
   },
   {
    "duration": 1946,
    "start_time": "2025-02-13T18:50:25.107Z"
   },
   {
    "duration": 641,
    "start_time": "2025-02-13T18:50:32.586Z"
   },
   {
    "duration": 2666,
    "start_time": "2025-02-17T16:28:02.956Z"
   },
   {
    "duration": 11,
    "start_time": "2025-02-17T16:28:05.624Z"
   },
   {
    "duration": 13,
    "start_time": "2025-02-17T16:28:05.637Z"
   },
   {
    "duration": 679,
    "start_time": "2025-02-17T16:28:05.652Z"
   },
   {
    "duration": 8,
    "start_time": "2025-02-17T16:28:06.334Z"
   },
   {
    "duration": 459,
    "start_time": "2025-02-17T16:28:06.343Z"
   },
   {
    "duration": 141043,
    "start_time": "2025-02-17T16:28:06.803Z"
   },
   {
    "duration": 6,
    "start_time": "2025-02-17T16:30:55.999Z"
   },
   {
    "duration": 19,
    "start_time": "2025-02-17T16:31:28.903Z"
   },
   {
    "duration": 9,
    "start_time": "2025-02-17T16:35:46.757Z"
   },
   {
    "duration": 10,
    "start_time": "2025-02-17T16:36:19.346Z"
   },
   {
    "duration": 11,
    "start_time": "2025-02-17T16:36:29.390Z"
   },
   {
    "duration": 6,
    "start_time": "2025-02-17T16:39:59.362Z"
   },
   {
    "duration": 9,
    "start_time": "2025-02-17T16:40:10.804Z"
   },
   {
    "duration": 65570,
    "start_time": "2025-02-17T16:49:28.759Z"
   },
   {
    "duration": 797,
    "start_time": "2025-02-17T17:03:30.412Z"
   },
   {
    "duration": 227,
    "start_time": "2025-02-17T17:04:50.667Z"
   },
   {
    "duration": 74,
    "start_time": "2025-02-17T17:05:17.715Z"
   },
   {
    "duration": 3,
    "start_time": "2025-02-17T17:05:41.399Z"
   },
   {
    "duration": 984,
    "start_time": "2025-02-17T17:05:46.767Z"
   },
   {
    "duration": 9,
    "start_time": "2025-02-17T17:05:47.753Z"
   },
   {
    "duration": 23,
    "start_time": "2025-02-17T17:05:47.764Z"
   },
   {
    "duration": 6,
    "start_time": "2025-02-17T17:05:47.788Z"
   },
   {
    "duration": 18,
    "start_time": "2025-02-17T17:05:47.796Z"
   },
   {
    "duration": 601,
    "start_time": "2025-02-17T17:05:47.817Z"
   },
   {
    "duration": 9,
    "start_time": "2025-02-17T17:05:48.421Z"
   },
   {
    "duration": 405,
    "start_time": "2025-02-17T17:05:48.432Z"
   },
   {
    "duration": 708,
    "start_time": "2025-02-17T17:06:54.426Z"
   },
   {
    "duration": 204,
    "start_time": "2025-02-17T17:06:55.136Z"
   },
   {
    "duration": 65622,
    "start_time": "2025-02-17T17:06:55.344Z"
   },
   {
    "duration": 1066,
    "start_time": "2025-02-17T17:45:54.517Z"
   },
   {
    "duration": 9,
    "start_time": "2025-02-17T17:45:55.586Z"
   },
   {
    "duration": 14,
    "start_time": "2025-02-17T17:45:55.597Z"
   },
   {
    "duration": 5,
    "start_time": "2025-02-17T17:45:55.613Z"
   },
   {
    "duration": 18,
    "start_time": "2025-02-17T17:45:55.621Z"
   },
   {
    "duration": 606,
    "start_time": "2025-02-17T17:45:55.641Z"
   },
   {
    "duration": 11,
    "start_time": "2025-02-17T17:45:56.249Z"
   },
   {
    "duration": 419,
    "start_time": "2025-02-17T17:45:56.262Z"
   },
   {
    "duration": 4113,
    "start_time": "2025-02-17T18:13:54.717Z"
   },
   {
    "duration": 9,
    "start_time": "2025-02-17T18:13:58.832Z"
   },
   {
    "duration": 16,
    "start_time": "2025-02-17T18:13:58.842Z"
   },
   {
    "duration": 5,
    "start_time": "2025-02-17T18:13:58.860Z"
   },
   {
    "duration": 21,
    "start_time": "2025-02-17T18:13:58.868Z"
   },
   {
    "duration": 912,
    "start_time": "2025-02-17T18:13:58.893Z"
   },
   {
    "duration": 15,
    "start_time": "2025-02-17T18:13:59.807Z"
   },
   {
    "duration": 473,
    "start_time": "2025-02-17T18:13:59.826Z"
   },
   {
    "duration": 77083,
    "start_time": "2025-02-17T18:14:00.301Z"
   },
   {
    "duration": 872,
    "start_time": "2025-02-17T18:15:17.386Z"
   },
   {
    "duration": 169,
    "start_time": "2025-02-17T18:15:18.260Z"
   },
   {
    "duration": 12,
    "start_time": "2025-02-17T18:17:07.397Z"
   },
   {
    "duration": 34,
    "start_time": "2025-02-17T18:17:07.415Z"
   },
   {
    "duration": 18,
    "start_time": "2025-02-17T18:17:07.454Z"
   },
   {
    "duration": 7,
    "start_time": "2025-02-17T18:17:07.474Z"
   },
   {
    "duration": 19,
    "start_time": "2025-02-17T18:17:07.483Z"
   },
   {
    "duration": 856,
    "start_time": "2025-02-17T18:17:07.507Z"
   },
   {
    "duration": 12,
    "start_time": "2025-02-17T18:17:08.366Z"
   },
   {
    "duration": 428,
    "start_time": "2025-02-17T18:17:08.380Z"
   },
   {
    "duration": 74947,
    "start_time": "2025-02-17T18:17:08.810Z"
   },
   {
    "duration": 871,
    "start_time": "2025-02-17T18:18:23.760Z"
   },
   {
    "duration": 162,
    "start_time": "2025-02-17T18:18:24.633Z"
   }
  ],
  "kernelspec": {
   "display_name": "Python 3 (ipykernel)",
   "language": "python",
   "name": "python3"
  },
  "language_info": {
   "codemirror_mode": {
    "name": "ipython",
    "version": 3
   },
   "file_extension": ".py",
   "mimetype": "text/x-python",
   "name": "python",
   "nbconvert_exporter": "python",
   "pygments_lexer": "ipython3",
   "version": "3.9.19"
  },
  "toc": {
   "base_numbering": 1,
   "nav_menu": {},
   "number_sections": true,
   "sideBar": true,
   "skip_h1_title": true,
   "title_cell": "Table of Contents",
   "title_sidebar": "Contents",
   "toc_cell": false,
   "toc_position": {},
   "toc_section_display": true,
   "toc_window_display": false
  }
 },
 "nbformat": 4,
 "nbformat_minor": 2
}
